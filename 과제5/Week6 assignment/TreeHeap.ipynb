{
 "cells": [
  {
   "cell_type": "markdown",
   "id": "incorrect-capital",
   "metadata": {},
   "source": [
    "# Week6 Assignment\n",
    "\n",
    "Implement a class `TreeHeap` in `tree_heap.py`, supporting a simplified priority queue ADT as follow:\n",
    "\n",
    "|  Method | Function |\n",
    "|--:|:--|\n",
    "|`add(k)`| Inserts an item with key k |\n",
    "|`k = remove_min()`| Removes and returns the smallest key |\n",
    "|`k = min()` | Returns, but does not remove, the smallest key |\n",
    "|`len()` | Returns the number of keys stored in the heap |\n",
    "|`is_empty()` | Check the heap is empty or not |\n",
    "\n",
    "## Requirements\n",
    "***Use a linked structure*** for building the internal binary tree structure of the heap. The internal class `_Node` is defined as follows:\n",
    "\n",
    "```python\n",
    "class _Node:\n",
    "    __slots__ = '_element', '_left', '_right', '_parent'\n",
    "    def __init__(self, element, left, right, parent):\n",
    "        self._element = element\n",
    "        self._left = left\n",
    "        self._right = right\n",
    "        self._parent = parent\n",
    "```\n",
    "\n",
    "In addition to the priority queue ADT, `display()` method is provided, to show and check the internal structure of the heap, which will be useful while you're implementing the ADT methods.\n",
    "\n",
    "Inside the `TreeHeap` class, you're allowed to ***use only the three member variables***:\n",
    "```python\n",
    "__slots__ = '_root', '_last', '_size'\n",
    "```\n",
    "where `_root` is pointing to the root node, `_last` is pointing to the last node inside the heap, and `_size` is the number of items in the heap. You need to update those variables adequately when performing `add` and `remove_min` operations. \n",
    "\n",
    "Also, `add()` and `remove_min()` should be implemented with $O(log n)$ running time algorithm.\n",
    "\n",
    "It's allowed to add auxiliary internal member methods, as many as you want."
   ]
  },
  {
   "cell_type": "code",
   "execution_count": 1,
   "id": "obvious-importance",
   "metadata": {},
   "outputs": [],
   "source": [
    "from tree_heap import TreeHeap"
   ]
  },
  {
   "cell_type": "code",
   "execution_count": 21,
   "id": "specified-blackberry",
   "metadata": {},
   "outputs": [
    {
     "name": "stdout",
     "output_type": "stream",
     "text": [
      "* 15  <- root  <- last\n",
      "* 15  <- root\n",
      "    * 14  <- last\n",
      "    * 15  <- last\n",
      "* 13  <- root\n",
      "    * 14\n",
      "    * 15\n",
      "* 12  <- root\n",
      "    * 13\n",
      "        * 14  <- last\n",
      "    * 15\n",
      "* 11  <- root\n",
      "        * 13  <- last\n",
      "    * 12\n",
      "        * 14\n",
      "    * 11\n",
      "        * 15  <- last\n",
      "* 10  <- root\n",
      "        * 13\n",
      "    * 12\n",
      "        * 14\n",
      "        * 11  <- last\n",
      "    * 10\n",
      "        * 15\n",
      "* 9  <- root\n",
      "        * 13\n",
      "    * 12\n",
      "        * 14\n",
      "        * 11\n",
      "    * 10\n",
      "        * 15\n",
      "* 8  <- root\n",
      "        * 13\n",
      "    * 9\n",
      "        * 12\n",
      "            * 14  <- last\n",
      "        * 11\n",
      "    * 10\n",
      "        * 15\n",
      "* 7  <- root\n",
      "        * 13\n",
      "    * 8\n",
      "            * 12  <- last\n",
      "        * 9\n",
      "            * 14\n",
      "        * 11\n",
      "    * 10\n",
      "        * 15\n",
      "* 6  <- root\n",
      "        * 8\n",
      "            * 13  <- last\n",
      "    * 7\n",
      "            * 12\n",
      "        * 9\n",
      "            * 14\n",
      "        * 11\n",
      "    * 10\n",
      "        * 15\n",
      "* 5  <- root\n",
      "            * 8  <- last\n",
      "        * 7\n",
      "            * 13\n",
      "    * 6\n",
      "            * 12\n",
      "        * 9\n",
      "            * 14\n",
      "        * 11\n",
      "    * 5\n",
      "        * 10\n",
      "            * 15  <- last\n",
      "* 4  <- root\n",
      "            * 8\n",
      "        * 7\n",
      "            * 13\n",
      "    * 6\n",
      "            * 12\n",
      "        * 9\n",
      "            * 14\n",
      "        * 11\n",
      "    * 4\n",
      "            * 10  <- last\n",
      "        * 5\n",
      "            * 15\n",
      "* 3  <- root\n",
      "            * 8\n",
      "        * 7\n",
      "            * 13\n",
      "    * 6\n",
      "            * 12\n",
      "        * 9\n",
      "            * 14\n",
      "        * 4\n",
      "            * 11  <- last\n",
      "    * 3\n",
      "            * 10\n",
      "        * 5\n",
      "            * 15\n",
      "* 2  <- root\n",
      "            * 8\n",
      "        * 7\n",
      "            * 13\n",
      "    * 6\n",
      "            * 12\n",
      "        * 9\n",
      "            * 14\n",
      "            * 4  <- last\n",
      "        * 3\n",
      "            * 11\n",
      "    * 2\n",
      "            * 10\n",
      "        * 5\n",
      "            * 15\n",
      "* 1  <- root\n",
      "            * 8\n",
      "        * 7\n",
      "            * 13\n",
      "    * 6\n",
      "            * 12\n",
      "        * 9\n",
      "            * 14\n"
     ]
    }
   ],
   "source": [
    "th = TreeHeap()\n",
    "for i in range(15):\n",
    "    th.display()\n",
    "    th.add(15-i)\n",
    "th.display()"
   ]
  },
  {
   "cell_type": "code",
   "execution_count": 22,
   "id": "chicken-blocking",
   "metadata": {},
   "outputs": [
    {
     "name": "stdout",
     "output_type": "stream",
     "text": [
      "1\n",
      "        * 4\n",
      "            * 11  <- last\n",
      "    * 3\n",
      "            * 10\n",
      "        * 5\n",
      "            * 15\n",
      "* 2  <- root\n",
      "            * 8\n",
      "        * 7\n",
      "            * 13\n",
      "    * 6\n",
      "            * 12\n",
      "        * 9\n",
      "            * 14\n",
      "2\n",
      "        * 11\n",
      "    * 4\n",
      "            * 10  <- last\n",
      "        * 5\n",
      "            * 15\n",
      "* 3  <- root\n",
      "            * 8\n",
      "        * 7\n",
      "            * 13\n",
      "    * 6\n",
      "            * 12\n",
      "        * 9\n",
      "            * 14\n",
      "3\n",
      "        * 11\n",
      "    * 5\n",
      "        * 10\n",
      "            * 15  <- last\n",
      "* 4  <- root\n",
      "            * 8\n",
      "        * 7\n",
      "            * 13\n",
      "    * 6\n",
      "            * 12\n",
      "        * 9\n",
      "            * 14\n"
     ]
    }
   ],
   "source": [
    "print(th.remove_min())\n",
    "th.display()\n",
    "print(th.remove_min())\n",
    "th.display()\n",
    "print(th.remove_min())\n",
    "\n",
    "th.display()"
   ]
  },
  {
   "cell_type": "code",
   "execution_count": 17,
   "id": "numeric-liberia",
   "metadata": {},
   "outputs": [],
   "source": [
    "import random\n",
    "\n",
    "sequence = list(range(10))\n",
    "random.shuffle(sequence)"
   ]
  },
  {
   "cell_type": "code",
   "execution_count": 18,
   "id": "figured-alberta",
   "metadata": {},
   "outputs": [
    {
     "name": "stdout",
     "output_type": "stream",
     "text": [
      "[2, 9, 5, 1, 4, 6, 8, 3, 0, 7]\n"
     ]
    }
   ],
   "source": [
    "print(sequence)"
   ]
  },
  {
   "cell_type": "code",
   "execution_count": 19,
   "id": "lyric-startup",
   "metadata": {},
   "outputs": [],
   "source": [
    "# pq sort\n",
    "th = TreeHeap()\n",
    "for item in sequence:\n",
    "    th.add(item)\n",
    "\n",
    "sorted_sequence = []\n",
    "while not th.is_empty():\n",
    "    sorted_sequence.append(th.remove_min())"
   ]
  },
  {
   "cell_type": "code",
   "execution_count": 20,
   "id": "verified-canvas",
   "metadata": {},
   "outputs": [
    {
     "name": "stdout",
     "output_type": "stream",
     "text": [
      "[0, 1, 2, 3, 4, 5, 6, 7, 8, 9]\n"
     ]
    }
   ],
   "source": [
    "print(sorted_sequence)"
   ]
  },
  {
   "cell_type": "code",
   "execution_count": null,
   "id": "hearing-prime",
   "metadata": {},
   "outputs": [],
   "source": [
    "# Test various edge cases by yourself\n",
    "# like, try remove_min from a empty heap, repeately add and remove items, etc."
   ]
  }
 ],
 "metadata": {
  "kernelspec": {
   "display_name": "Python 3",
   "language": "python",
   "name": "python3"
  },
  "language_info": {
   "codemirror_mode": {
    "name": "ipython",
    "version": 3
   },
   "file_extension": ".py",
   "mimetype": "text/x-python",
   "name": "python",
   "nbconvert_exporter": "python",
   "pygments_lexer": "ipython3",
   "version": "3.10.2"
  }
 },
 "nbformat": 4,
 "nbformat_minor": 5
}

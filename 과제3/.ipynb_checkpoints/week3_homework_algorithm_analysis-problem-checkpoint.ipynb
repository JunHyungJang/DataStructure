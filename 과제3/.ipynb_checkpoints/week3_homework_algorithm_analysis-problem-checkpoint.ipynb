{
 "cells": [
  {
   "cell_type": "markdown",
   "id": "composite-climb",
   "metadata": {},
   "source": [
    "# Assignment Week 3 - Experimental Analysis (10 p)\n",
    "\n",
    "You perform an experimental running time analysis of list related functions below in python.\n",
    "\n",
    "* [DEMO] accessing an item with an index in a list - `L[index]`\n",
    "* adding one item at the end of a list - `L.append(random number)`\n",
    "* adding one item at the middle of a list - `L.insert(random position, random number)`\n",
    "* sorting a list - `L.sort()`\n",
    "* find an item in a list - `L[random index] in L`\n",
    "* remove one item from a list - `L.remove(L[random index])`\n",
    "\n",
    "where `L` is a python list of `N` random numbers.\n",
    "\n",
    "Use the following functions and codes as you wish.\n",
    "\n",
    "### Tip\n",
    "* Select the right range of the problem size, with an adequte number of tests (= `range(10000, 100000, 5000)` - test the range with various values)\n",
    "* When analyze the result, ignore exceptional points. Observe the overall trend.\n",
    "* Consider the worst-case running time."
   ]
  },
  {
   "cell_type": "code",
   "execution_count": 1,
   "id": "illegal-alliance",
   "metadata": {},
   "outputs": [],
   "source": [
    "# importing required modules for this assignment\n",
    "\n",
    "import random\n",
    "from time import time_ns\n",
    "from matplotlib import pyplot as plt\n"
   ]
  },
  {
   "cell_type": "code",
   "execution_count": 2,
   "id": "collectible-indication",
   "metadata": {},
   "outputs": [
    {
     "name": "stdout",
     "output_type": "stream",
     "text": [
      "[9, 2, 5, 4, 1, 3, 0, 6, 8, 7]\n"
     ]
    }
   ],
   "source": [
    "# Generate a list of N random numbers\n",
    "\n",
    "def gen_list(N):\n",
    "    L = []\n",
    "\n",
    "    for i in range(N):\n",
    "        L.append(i)\n",
    "        \n",
    "    random.shuffle(L)    \n",
    "    return L\n",
    "\n",
    "print(gen_list(10))"
   ]
  },
  {
   "cell_type": "markdown",
   "id": "distinguished-center",
   "metadata": {},
   "source": [
    "## Demonstration\n",
    "\n",
    "In the following cell, I demonstrate how to analyze the running time of **accessing an item with an index in a list**"
   ]
  },
  {
   "cell_type": "code",
   "execution_count": 6,
   "id": "spatial-russell",
   "metadata": {
    "scrolled": false
   },
   "outputs": [
    {
     "data": {
      "text/plain": [
       "<matplotlib.collections.PathCollection at 0x21bc948feb0>"
      ]
     },
     "execution_count": 6,
     "metadata": {},
     "output_type": "execute_result"
    },
    {
     "data": {
      "image/png": "[encoded data removed]",
      "text/plain": [
       "<Figure size 720x720 with 1 Axes>"
      ]
     },
     "metadata": {
      "needs_background": "light"
     },
     "output_type": "display_data"
    }
   ],
   "source": [
    "problem_size = []\n",
    "result = []\n",
    "\n",
    "# increase the problem size. change the numbers if needed (be careful with the large number)\n",
    "for i in range(10000, 100000, 50): # change the problem size from 100 to 10000, with step=50\n",
    "    L = gen_list(i)  # generate a list of i items\n",
    "    access_idx = random.randint(0,i-1) # pick a random index within a list\n",
    "    start = time_ns() # record the start time\n",
    "    a = L[access_idx] # execute the code you want to test\n",
    "    end = time_ns() # record the end time\n",
    "    elapsed = end-start # calculate the elapsed time\n",
    "    \n",
    "    problem_size.append(i)\n",
    "    result.append(elapsed)\n",
    "    \n",
    "# make a scatter plot the problem size and result \n",
    "plt.figure(figsize=(10, 10))\n",
    "plt.scatter(problem_size, result)"
   ]
  },
  {
   "cell_type": "markdown",
   "id": "derived-installation",
   "metadata": {},
   "source": [
    "I can conlude that **accessing an item with an index in a list** is running in O(1)"
   ]
  },
  {
   "cell_type": "markdown",
   "id": "conditional-mason",
   "metadata": {},
   "source": [
    "## Problem 1\n",
    "\n",
    "**adding one item at the end of a list**\n",
    "\n",
    "`L.append(random number)`"
   ]
  },
  {
   "cell_type": "code",
   "execution_count": 8,
   "id": "massive-brief",
   "metadata": {},
   "outputs": [
    {
     "data": {
      "text/plain": [
       "<matplotlib.collections.PathCollection at 0x21bc92845b0>"
      ]
     },
     "execution_count": 8,
     "metadata": {},
     "output_type": "execute_result"
    },
    {
     "data": {
      "image/png": "[encoded data removed]",
      "text/plain": [
       "<Figure size 720x720 with 1 Axes>"
      ]
     },
     "metadata": {
      "needs_background": "light"
     },
     "output_type": "display_data"
    }
   ],
   "source": [
    "# Write your codes for the analysis here\n",
    "problem_size = []\n",
    "result = []\n",
    "\n",
    "for i in range(10000,100000,1000):\n",
    "    L = gen_list(i)\n",
    "    k = random.randint(0,i-1)\n",
    "    start = time_ns()\n",
    "    L.append(k)\n",
    "    end = time_ns()\n",
    "    elapsed = end - start\n",
    "    \n",
    "    problem_size.append(i)\n",
    "    result.append(elapsed)\n",
    "\n",
    "plt.figure(figsize = (10,10))\n",
    "plt.scatter(problem_size, result)\n",
    "    \n",
    "    \n"
   ]
  },
  {
   "cell_type": "markdown",
   "id": "peripheral-payment",
   "metadata": {},
   "source": [
    "## Problem 2\n",
    "\n",
    "**adding one item at the middle of a list**\n",
    "\n",
    "`L.insert(random position, random number)`"
   ]
  },
  {
   "cell_type": "code",
   "execution_count": 12,
   "id": "iraqi-specialist",
   "metadata": {},
   "outputs": [
    {
     "name": "stdout",
     "output_type": "stream",
     "text": [
      "[10000, 11000, 12000, 13000, 14000, 15000, 16000, 17000, 18000, 19000, 20000, 21000, 22000, 23000, 24000, 25000, 26000, 27000, 28000, 29000, 30000, 31000, 32000, 33000, 34000, 35000, 36000, 37000, 38000, 39000, 40000, 41000, 42000, 43000, 44000, 45000, 46000, 47000, 48000, 49000, 50000, 51000, 52000, 53000, 54000, 55000, 56000, 57000, 58000, 59000, 60000, 61000, 62000, 63000, 64000, 65000, 66000, 67000, 68000, 69000, 70000, 71000, 72000, 73000, 74000, 75000, 76000, 77000, 78000, 79000, 80000, 81000, 82000, 83000, 84000, 85000, 86000, 87000, 88000, 89000, 90000, 91000, 92000, 93000, 94000, 95000, 96000, 97000, 98000, 99000]\n",
      "[0, 0, 0, 0, 0, 0, 0, 0, 0, 0, 0, 0, 0, 0, 0, 0, 0, 0, 0, 0, 0, 0, 0, 0, 0, 0, 0, 0, 0, 0, 0, 0, 0, 0, 0, 0, 0, 0, 0, 0, 0, 0, 0, 0, 0, 0, 0, 0, 0, 0, 0, 0, 0, 0, 0, 0, 0, 0, 0, 0, 0, 1000700, 0, 0, 0, 0, 0, 0, 0, 0, 0, 0, 0, 0, 0, 0, 0, 0, 0, 0, 0, 0, 0, 0, 0, 0, 0, 0, 0, 0]\n"
     ]
    },
    {
     "data": {
      "text/plain": [
       "<matplotlib.collections.PathCollection at 0x21bc9150640>"
      ]
     },
     "execution_count": 12,
     "metadata": {},
     "output_type": "execute_result"
    },
    {
     "data": {
      "image/png": "[encoded data removed]",
      "text/plain": [
       "<Figure size 720x720 with 1 Axes>"
      ]
     },
     "metadata": {
      "needs_background": "light"
     },
     "output_type": "display_data"
    }
   ],
   "source": [
    "# Write your codes for the analysis here\n",
    "problem_size = []\n",
    "result = []\n",
    "\n",
    "for i in range(10000,1000000,10000):\n",
    "    L = gen_list(i)\n",
    "    k = random.randint(0,i-1)\n",
    "    t = random.randint(0,i-1)\n",
    "    start = time_ns()\n",
    "    L.insert(k,t)\n",
    "    end = time_ns()\n",
    "    elapsed = end - start\n",
    "    \n",
    "    problem_size.append(i)\n",
    "    result.append(elapsed)\n",
    "\n",
    "print(problem_size)\n",
    "print(result)\n",
    "plt.figure(figsize = (10,10))\n",
    "plt.scatter(problem_size, result)\n",
    "    \n",
    "    \n"
   ]
  },
  {
   "cell_type": "markdown",
   "id": "narrow-clause",
   "metadata": {},
   "source": [
    "## Problem 3\n",
    "\n",
    "**sorting a list**\n",
    "\n",
    "`L.sort()`"
   ]
  },
  {
   "cell_type": "code",
   "execution_count": 3,
   "id": "comparable-document",
   "metadata": {},
   "outputs": [],
   "source": [
    "# Write your codes for the analysis here\n"
   ]
  },
  {
   "cell_type": "markdown",
   "id": "broken-chess",
   "metadata": {},
   "source": [
    "## Problem 4\n",
    "\n",
    "**find an item in a list**\n",
    "\n",
    "`L[random number within the list] in L`"
   ]
  },
  {
   "cell_type": "code",
   "execution_count": 4,
   "id": "interstate-summer",
   "metadata": {},
   "outputs": [],
   "source": [
    "# Write your codes for the analysis here\n"
   ]
  },
  {
   "cell_type": "markdown",
   "id": "impressive-world",
   "metadata": {},
   "source": [
    "## Problem 5\n",
    "\n",
    "**remove one item from a list**\n",
    "\n",
    "`L.remove(L[random index])`"
   ]
  },
  {
   "cell_type": "code",
   "execution_count": 5,
   "id": "laughing-holly",
   "metadata": {},
   "outputs": [],
   "source": [
    "# Write your codes for the analysis here\n"
   ]
  },
  {
   "cell_type": "markdown",
   "id": "distant-killer",
   "metadata": {},
   "source": [
    "# Write your answer here\n",
    "\n",
    "* Problem 1: O(?)\n",
    "* Problem 2: O(?)\n",
    "* Problem 3: O(?)\n",
    "* Problem 4: O(?)\n",
    "* Problem 5: O(?)"
   ]
  },
  {
   "cell_type": "code",
   "execution_count": null,
   "id": "neutral-tuning",
   "metadata": {},
   "outputs": [],
   "source": []
  }
 ],
 "metadata": {
  "kernelspec": {
   "display_name": "Python 3 (ipykernel)",
   "language": "python",
   "name": "python3"
  },
  "language_info": {
   "codemirror_mode": {
    "name": "ipython",
    "version": 3
   },
   "file_extension": ".py",
   "mimetype": "text/x-python",
   "name": "python",
   "nbconvert_exporter": "python",
   "pygments_lexer": "ipython3",
   "version": "3.10.2"
  }
 },
 "nbformat": 4,
 "nbformat_minor": 5
}

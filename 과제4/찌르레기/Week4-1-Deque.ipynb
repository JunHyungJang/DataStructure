{
 "cells": [
  {
   "cell_type": "markdown",
   "id": "6575ee71",
   "metadata": {},
   "source": [
    "# Week4 Assignment 1\n",
    "\n",
    "Modify a class `Deque` in `ArrayDeque.py`, supporting the following ADT:\n",
    "\n",
    "| Mehod | Function |\n",
    "| ---: | :--- |\n",
    "| `D.add_first(e)` | Add element e at the front of the deque **D**. |\n",
    "| `D.add_last(e)` | Add element e at the end of deque **D**. |\n",
    "| `e = D.delete_first()` | Removes and return element e at the first of deque **D**. |\n",
    "| `e = D.delete_last()` | Removes and return element e at the end of deque **D**. |\n",
    "| `e = D.first()` | Return element e at the first of deque **D**. |\n",
    "| `e = D.last()` | Return element e at the end of deque **D**. |\n",
    "| `D.is_empty()` | Return True if deque **D** does not contain any elements. |\n",
    "| `len(D)` | Return the number of elements in Deque **D**; in Python, we implement this with the special method `__len__`. |\n",
    "\n",
    "* All the operations in the ADT should be O(1) time complexity in amortized analysis. \n",
    "* DO NOT USE `append()`, `extend()`, `pop()`, methods in the `list` module.\n",
    "* Manually manage all the data placements. **Use only `self._data[index]` to assign or retrieve the data from the list**.\n",
    "* Use doubling strategy for resizing the buffer (=`_data`).\n",
    "* You need to resize the buffer when the buffer is full, or the length of Deque is <1/2 of the buffer size"
   ]
  },
  {
   "cell_type": "code",
   "execution_count": 1,
   "id": "eb221b29",
   "metadata": {},
   "outputs": [],
   "source": [
    "from ArrayDeque import Deque, EmptyException"
   ]
  },
  {
   "cell_type": "code",
   "execution_count": 2,
   "id": "2ae9cd93",
   "metadata": {},
   "outputs": [
    {
     "name": "stdout",
     "output_type": "stream",
     "text": [
      "28\n",
      "27\n",
      "26\n",
      "25\n",
      "24\n",
      "23\n",
      "22\n",
      "21\n",
      "20\n",
      "18\n",
      "0\n",
      "18\n",
      "8\n",
      "17\n",
      "7\n",
      "16\n",
      "6\n",
      "15\n",
      "5\n",
      "14\n",
      "0\n",
      "10\n",
      "1\n",
      "11\n",
      "2\n",
      "12\n",
      "3\n",
      "13\n",
      "4\n"
     ]
    }
   ],
   "source": [
    "# Test cases\n",
    "\n",
    "d = Deque()\n",
    "\n",
    "for i in range(9):\n",
    "    d.add_first(i)\n",
    "    d.add_last(i+20)\n",
    "    d.add_first(i+10)\n",
    "    \n",
    "for i in range(9):\n",
    "    print(d.delete_last())\n",
    "print(d.first())\n",
    "print(d.last())\n",
    "\n",
    "for i in range(9):\n",
    "    print(d.delete_first())\n",
    "    \n",
    "for i in range(9):\n",
    "    print(d.delete_last())"
   ]
  },
  {
   "cell_type": "markdown",
   "id": "cf189117",
   "metadata": {},
   "source": []
  },
  {
   "cell_type": "code",
   "execution_count": 3,
   "id": "126664ec",
   "metadata": {},
   "outputs": [
    {
     "ename": "EmptyException",
     "evalue": "Deque is empty",
     "output_type": "error",
     "traceback": [
      "\u001b[1;31m---------------------------------------------------------------------------\u001b[0m",
      "\u001b[1;31mEmptyException\u001b[0m                            Traceback (most recent call last)",
      "\u001b[1;32mc:\\Users\\WINDOWS\\Desktop\\2022년1학기\\자료구조\\과제\\과제4\\Week4-1-Deque.ipynb Cell 5'\u001b[0m in \u001b[0;36m<cell line: 1>\u001b[1;34m()\u001b[0m\n\u001b[1;32m----> <a href='vscode-notebook-cell:/c%3A/Users/WINDOWS/Desktop/2022%EB%85%841%ED%95%99%EA%B8%B0/%EC%9E%90%EB%A3%8C%EA%B5%AC%EC%A1%B0/%EA%B3%BC%EC%A0%9C/%EA%B3%BC%EC%A0%9C4/Week4-1-Deque.ipynb#ch0000004?line=0'>1</a>\u001b[0m d\u001b[39m.\u001b[39;49mdelete_first()\n",
      "File \u001b[1;32mc:\\Users\\WINDOWS\\Desktop\\2022년1학기\\자료구조\\과제\\과제4\\ArrayDeque.py:68\u001b[0m, in \u001b[0;36mDeque.delete_first\u001b[1;34m(self)\u001b[0m\n\u001b[0;32m     <a href='file:///c%3A/Users/WINDOWS/Desktop/2022%EB%85%841%ED%95%99%EA%B8%B0/%EC%9E%90%EB%A3%8C%EA%B5%AC%EC%A1%B0/%EA%B3%BC%EC%A0%9C/%EA%B3%BC%EC%A0%9C4/ArrayDeque.py?line=65'>66</a>\u001b[0m \u001b[39m# print(self._data)\u001b[39;00m\n\u001b[0;32m     <a href='file:///c%3A/Users/WINDOWS/Desktop/2022%EB%85%841%ED%95%99%EA%B8%B0/%EC%9E%90%EB%A3%8C%EA%B5%AC%EC%A1%B0/%EA%B3%BC%EC%A0%9C/%EA%B3%BC%EC%A0%9C4/ArrayDeque.py?line=66'>67</a>\u001b[0m \u001b[39mif\u001b[39;00m \u001b[39mself\u001b[39m\u001b[39m.\u001b[39mis_empty():\n\u001b[1;32m---> <a href='file:///c%3A/Users/WINDOWS/Desktop/2022%EB%85%841%ED%95%99%EA%B8%B0/%EC%9E%90%EB%A3%8C%EA%B5%AC%EC%A1%B0/%EA%B3%BC%EC%A0%9C/%EA%B3%BC%EC%A0%9C4/ArrayDeque.py?line=67'>68</a>\u001b[0m     \u001b[39mraise\u001b[39;00m EmptyException(\u001b[39m\"\u001b[39m\u001b[39mDeque is empty\u001b[39m\u001b[39m\"\u001b[39m)\n\u001b[0;32m     <a href='file:///c%3A/Users/WINDOWS/Desktop/2022%EB%85%841%ED%95%99%EA%B8%B0/%EC%9E%90%EB%A3%8C%EA%B5%AC%EC%A1%B0/%EA%B3%BC%EC%A0%9C/%EA%B3%BC%EC%A0%9C4/ArrayDeque.py?line=70'>71</a>\u001b[0m \u001b[39m# element 하나\u001b[39;00m\n\u001b[0;32m     <a href='file:///c%3A/Users/WINDOWS/Desktop/2022%EB%85%841%ED%95%99%EA%B8%B0/%EC%9E%90%EB%A3%8C%EA%B5%AC%EC%A1%B0/%EA%B3%BC%EC%A0%9C/%EA%B3%BC%EC%A0%9C4/ArrayDeque.py?line=71'>72</a>\u001b[0m \u001b[39mif\u001b[39;00m \u001b[39mself\u001b[39m\u001b[39m.\u001b[39m_f \u001b[39m==\u001b[39m \u001b[39mself\u001b[39m\u001b[39m.\u001b[39m_r:\n",
      "\u001b[1;31mEmptyException\u001b[0m: Deque is empty"
     ]
    }
   ],
   "source": [
    "d.delete_first() # should raise an exception"
   ]
  },
  {
   "cell_type": "code",
   "execution_count": 4,
   "id": "bdcfc8e9",
   "metadata": {},
   "outputs": [
    {
     "ename": "EmptyException",
     "evalue": "Deque is empty",
     "output_type": "error",
     "traceback": [
      "\u001b[1;31m---------------------------------------------------------------------------\u001b[0m",
      "\u001b[1;31mEmptyException\u001b[0m                            Traceback (most recent call last)",
      "\u001b[1;32mc:\\Users\\WINDOWS\\Desktop\\2022년1학기\\자료구조\\과제\\과제4\\Week4-1-Deque.ipynb Cell 6'\u001b[0m in \u001b[0;36m<cell line: 1>\u001b[1;34m()\u001b[0m\n\u001b[1;32m----> <a href='vscode-notebook-cell:/c%3A/Users/WINDOWS/Desktop/2022%EB%85%841%ED%95%99%EA%B8%B0/%EC%9E%90%EB%A3%8C%EA%B5%AC%EC%A1%B0/%EA%B3%BC%EC%A0%9C/%EA%B3%BC%EC%A0%9C4/Week4-1-Deque.ipynb#ch0000005?line=0'>1</a>\u001b[0m d\u001b[39m.\u001b[39;49mlast()\n",
      "File \u001b[1;32mc:\\Users\\WINDOWS\\Desktop\\2022년1학기\\자료구조\\과제\\과제4\\ArrayDeque.py:121\u001b[0m, in \u001b[0;36mDeque.last\u001b[1;34m(self)\u001b[0m\n\u001b[0;32m    <a href='file:///c%3A/Users/WINDOWS/Desktop/2022%EB%85%841%ED%95%99%EA%B8%B0/%EC%9E%90%EB%A3%8C%EA%B5%AC%EC%A1%B0/%EA%B3%BC%EC%A0%9C/%EA%B3%BC%EC%A0%9C4/ArrayDeque.py?line=117'>118</a>\u001b[0m \u001b[39mdef\u001b[39;00m \u001b[39mlast\u001b[39m(\u001b[39mself\u001b[39m):\n\u001b[0;32m    <a href='file:///c%3A/Users/WINDOWS/Desktop/2022%EB%85%841%ED%95%99%EA%B8%B0/%EC%9E%90%EB%A3%8C%EA%B5%AC%EC%A1%B0/%EA%B3%BC%EC%A0%9C/%EA%B3%BC%EC%A0%9C4/ArrayDeque.py?line=118'>119</a>\u001b[0m     \u001b[39m# IMPLEMENT HERE\u001b[39;00m\n\u001b[0;32m    <a href='file:///c%3A/Users/WINDOWS/Desktop/2022%EB%85%841%ED%95%99%EA%B8%B0/%EC%9E%90%EB%A3%8C%EA%B5%AC%EC%A1%B0/%EA%B3%BC%EC%A0%9C/%EA%B3%BC%EC%A0%9C4/ArrayDeque.py?line=119'>120</a>\u001b[0m     \u001b[39mif\u001b[39;00m \u001b[39mself\u001b[39m\u001b[39m.\u001b[39mis_empty():\n\u001b[1;32m--> <a href='file:///c%3A/Users/WINDOWS/Desktop/2022%EB%85%841%ED%95%99%EA%B8%B0/%EC%9E%90%EB%A3%8C%EA%B5%AC%EC%A1%B0/%EA%B3%BC%EC%A0%9C/%EA%B3%BC%EC%A0%9C4/ArrayDeque.py?line=120'>121</a>\u001b[0m         \u001b[39mraise\u001b[39;00m EmptyException(\u001b[39m\"\u001b[39m\u001b[39mDeque is empty\u001b[39m\u001b[39m\"\u001b[39m)\n\u001b[0;32m    <a href='file:///c%3A/Users/WINDOWS/Desktop/2022%EB%85%841%ED%95%99%EA%B8%B0/%EC%9E%90%EB%A3%8C%EA%B5%AC%EC%A1%B0/%EA%B3%BC%EC%A0%9C/%EA%B3%BC%EC%A0%9C4/ArrayDeque.py?line=121'>122</a>\u001b[0m     \u001b[39m# print(\"f,r\", self._f, self._r)\u001b[39;00m\n\u001b[0;32m    <a href='file:///c%3A/Users/WINDOWS/Desktop/2022%EB%85%841%ED%95%99%EA%B8%B0/%EC%9E%90%EB%A3%8C%EA%B5%AC%EC%A1%B0/%EA%B3%BC%EC%A0%9C/%EA%B3%BC%EC%A0%9C4/ArrayDeque.py?line=122'>123</a>\u001b[0m     \u001b[39m# if self._r == self._l:\u001b[39;00m\n\u001b[0;32m    <a href='file:///c%3A/Users/WINDOWS/Desktop/2022%EB%85%841%ED%95%99%EA%B8%B0/%EC%9E%90%EB%A3%8C%EA%B5%AC%EC%A1%B0/%EA%B3%BC%EC%A0%9C/%EA%B3%BC%EC%A0%9C4/ArrayDeque.py?line=123'>124</a>\u001b[0m     \u001b[39m#     return self._data[0]\u001b[39;00m\n\u001b[0;32m    <a href='file:///c%3A/Users/WINDOWS/Desktop/2022%EB%85%841%ED%95%99%EA%B8%B0/%EC%9E%90%EB%A3%8C%EA%B5%AC%EC%A1%B0/%EA%B3%BC%EC%A0%9C/%EA%B3%BC%EC%A0%9C4/ArrayDeque.py?line=124'>125</a>\u001b[0m     \u001b[39m# else:\u001b[39;00m\n\u001b[0;32m    <a href='file:///c%3A/Users/WINDOWS/Desktop/2022%EB%85%841%ED%95%99%EA%B8%B0/%EC%9E%90%EB%A3%8C%EA%B5%AC%EC%A1%B0/%EA%B3%BC%EC%A0%9C/%EA%B3%BC%EC%A0%9C4/ArrayDeque.py?line=125'>126</a>\u001b[0m     \u001b[39mreturn\u001b[39;00m \u001b[39mself\u001b[39m\u001b[39m.\u001b[39m_data[\u001b[39mself\u001b[39m\u001b[39m.\u001b[39m_r]\n",
      "\u001b[1;31mEmptyException\u001b[0m: Deque is empty"
     ]
    }
   ],
   "source": [
    "d.last() # should raise an exception"
   ]
  },
  {
   "cell_type": "code",
   "execution_count": 5,
   "id": "e5ec0922",
   "metadata": {},
   "outputs": [],
   "source": [
    "# Add your own test cases\n"
   ]
  }
 ],
 "metadata": {
  "kernelspec": {
   "display_name": "Python 3 (ipykernel)",
   "language": "python",
   "name": "python3"
  },
  "language_info": {
   "codemirror_mode": {
    "name": "ipython",
    "version": 3
   },
   "file_extension": ".py",
   "mimetype": "text/x-python",
   "name": "python",
   "nbconvert_exporter": "python",
   "pygments_lexer": "ipython3",
   "version": "3.10.2"
  }
 },
 "nbformat": 4,
 "nbformat_minor": 5
}

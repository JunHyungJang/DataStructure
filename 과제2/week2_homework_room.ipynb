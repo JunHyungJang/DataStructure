{
 "cells": [
  {
   "cell_type": "code",
   "execution_count": 1,
   "id": "serious-comparison",
   "metadata": {},
   "outputs": [],
   "source": [
    "from room import Room  # You'll need to restart the kernel once you changed the file"
   ]
  },
  {
   "cell_type": "code",
   "execution_count": 2,
   "id": "white-banana",
   "metadata": {},
   "outputs": [],
   "source": [
    "a = Room(100, 2)\n",
    "b = Room(101, 1)\n",
    "c = Room(102, 1)"
   ]
  },
  {
   "cell_type": "code",
   "execution_count": 3,
   "id": "fatal-lincoln",
   "metadata": {},
   "outputs": [
    {
     "name": "stdout",
     "output_type": "stream",
     "text": [
      "Room number 100, occupancy 2/2\n",
      "Young, Mcgee\n",
      "Room number 100, occupancy 1/2\n",
      "Mcgee\n",
      "Room number 100, occupancy 2/2\n",
      "Mcgee, Sabrina\n",
      "You cannot check out non-existing client\n",
      "Room number 100, occupancy 0/2\n",
      "Empty\n"
     ]
    }
   ],
   "source": [
    "if (a.available()): a.check_in('Young')\n",
    "if (a.available()): a.check_in('Mcgee')\n",
    "print(a)\n",
    "print(a.get_clients())\n",
    "a.check_out('Young')\n",
    "print(a)\n",
    "print(a.get_clients())\n",
    "a.check_in('Sabrina')\n",
    "print(a)\n",
    "print(a.get_clients())\n",
    "if not a.check_out('Young'): print('You cannot check out non-existing client')\n",
    "a.check_out('Sabrina')\n",
    "a.check_out('Mcgee')\n",
    "print(a)\n",
    "print(a.get_clients())"
   ]
  },
  {
   "cell_type": "code",
   "execution_count": 4,
   "id": "dietary-quality",
   "metadata": {},
   "outputs": [
    {
     "name": "stdout",
     "output_type": "stream",
     "text": [
      "Room number 101, occupancy 1/1\n",
      "Dexter\n"
     ]
    }
   ],
   "source": [
    "if (b.available()): b.check_in('Dexter')\n",
    "if (b.available()): b.check_in('Schuman')\n",
    "print(b)\n",
    "print(b.get_clients())"
   ]
  },
  {
   "cell_type": "code",
   "execution_count": 5,
   "id": "romantic-mexico",
   "metadata": {},
   "outputs": [
    {
     "name": "stdout",
     "output_type": "stream",
     "text": [
      "Room is full\n",
      "Room number 102, occupancy 1/1\n",
      "Woodward\n"
     ]
    }
   ],
   "source": [
    "if not c.check_in('Woodward'): print('Room is full')\n",
    "if not c.check_in('Nelson'): print('Room is full')\n",
    "print(c)\n",
    "print(c.get_clients())"
   ]
  },
  {
   "cell_type": "code",
   "execution_count": null,
   "id": "substantial-draft",
   "metadata": {},
   "outputs": [],
   "source": []
  }
 ],
 "metadata": {
  "kernelspec": {
   "display_name": "Python 3",
   "language": "python",
   "name": "python3"
  },
  "language_info": {
   "codemirror_mode": {
    "name": "ipython",
    "version": 3
   },
   "file_extension": ".py",
   "mimetype": "text/x-python",
   "name": "python",
   "nbconvert_exporter": "python",
   "pygments_lexer": "ipython3",
   "version": "3.9.9"
  }
 },
 "nbformat": 4,
 "nbformat_minor": 5
}
